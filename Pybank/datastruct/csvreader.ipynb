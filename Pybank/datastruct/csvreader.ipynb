{
 "cells": [
  {
   "cell_type": "code",
   "execution_count": 4,
   "id": "eddf7f1c-123d-4fae-af56-992e045ff57d",
   "metadata": {},
   "outputs": [],
   "source": [
    "\n",
    "from pathlib import Path\n",
    "import csv\n",
    "\n",
    "csvpath = Path(\"./accounting.csv\")\n",
    "salaries = []\n",
    "line_num = 0"
   ]
  },
  {
   "cell_type": "code",
   "execution_count": 5,
   "id": "12465a16-2bb1-4e9c-8a52-51cd072584ce",
   "metadata": {},
   "outputs": [
    {
     "name": "stdout",
     "output_type": "stream",
     "text": [
      "<class '_io.TextIOWrapper'>\n",
      "(header)<====== Header\n",
      "['Tina', 'Fleming', '619-16-7988', '75000']\n",
      "['Erica', 'Shah', '164-51-7615', '40000']\n",
      "['Paula', 'Ortiz', '051-83-3290', '120000']\n",
      "['James', 'Hendricks', '776-83-2884', '90000']\n",
      "['Lauren', 'King', '197-94-2398', '60000']\n",
      "['David', 'Cowan', '252-92-1832', '35000']\n",
      "['Andrew', 'Burton', '296-23-6842', '150000']\n",
      "['Julian', 'Baker', '337-40-7543', '75000']\n",
      "['Scott', 'Castro', '399-46-5595', '50000']\n",
      "['Billy', 'Rodriguez', '014-18-2503', '65000']\n",
      "['Darrell', 'Leblanc', '005-82-7918', '40000']\n",
      "['David', 'Hammond', '561-17-6312', '90000']\n",
      "[75000, 40000, 120000, 90000, 60000, 35000, 150000, 75000, 50000, 65000, 40000, 90000]\n",
      "150000 35000 74166.67 12 890000\n"
     ]
    }
   ],
   "source": [
    "\n",
    "with open(csvpath, 'r') as csvfile:\n",
    "    print(type(csvfile))\n",
    "\n",
    "    csvreader = csv.reader(csvfile, delimiter=',')\n",
    "    header = next(csvreader)\n",
    "    \n",
    "    line_num +=1\n",
    "    print(f\"(header)<====== Header\")\n",
    "    \n",
    "    for row in csvreader:\n",
    "        print(row)\n",
    "        salary = int(row[3])\n",
    "        salaries.append(salary)\n",
    "        \n",
    "print(salaries)\n",
    "        \n",
    "max_salary = 0\n",
    "min_salary = 0\n",
    "avg_salary = 0\n",
    "total_salary = 0\n",
    "count_salary = 0\n",
    "\n",
    "for salary in salaries:\n",
    "    total_salary += salary\n",
    "    count_salary += 1\n",
    "    \n",
    "    if min_salary == 0:\n",
    "        min_salary = salary\n",
    "    elif salary < min_salary:\n",
    "        min_salary = salary\n",
    "    elif salary > max_salary:\n",
    "        max_salary = salary\n",
    "        \n",
    "\n",
    "avg_salary = round(total_salary / count_salary, 2)\n",
    "print(max_salary, min_salary, avg_salary, count_salary, total_salary)\n",
    "header = [\"Max_Salary\" , \"Min_Salary\" , \"Avg_Salary\"]\n",
    "metrics = [max_salary,min_salary,avg_salary]\n",
    "           \n",
    "output_path = Path(\"output2.csv\")\n",
    "\n",
    "with open(output_path,\"w\") as csvfile:\n",
    "           csvwriter = csv.writer(csvfile, delimiter=\",\")\n",
    "           csvwriter.writerow(header)\n",
    "           csvwriter.writerow(metrics)\n",
    "    "
   ]
  },
  {
   "cell_type": "code",
   "execution_count": 9,
   "id": "8a0bc592-1f1f-41bb-a56c-45090f74cf25",
   "metadata": {},
   "outputs": [],
   "source": [
    "import numpy\n"
   ]
  },
  {
   "cell_type": "code",
   "execution_count": 10,
   "id": "ea2c96b3-dfb4-4597-a36b-fde0e146d2f2",
   "metadata": {},
   "outputs": [],
   "source": [
    "import numpy_financial\n"
   ]
  },
  {
   "cell_type": "code",
   "execution_count": 11,
   "id": "5dc7f2f9-7f03-4518-970c-e9d4b7deabd0",
   "metadata": {},
   "outputs": [
    {
     "name": "stdout",
     "output_type": "stream",
     "text": [
      "<module 'numpy' from '/Applications/anaconda3/envs/dev/lib/python3.7/site-packages/numpy/__init__.py'>\n"
     ]
    }
   ],
   "source": [
    "print(numpy)"
   ]
  },
  {
   "cell_type": "code",
   "execution_count": 12,
   "id": "70cc6f30-08dd-47e1-9310-261352e406dd",
   "metadata": {},
   "outputs": [
    {
     "name": "stdout",
     "output_type": "stream",
     "text": [
      "<module 'numpy_financial' from '/Applications/anaconda3/envs/dev/lib/python3.7/site-packages/numpy_financial/__init__.py'>\n"
     ]
    }
   ],
   "source": [
    "print(numpy_financial)"
   ]
  },
  {
   "cell_type": "code",
   "execution_count": 13,
   "id": "d3e5f44e-2266-4a91-a496-75c41c7d9277",
   "metadata": {},
   "outputs": [],
   "source": [
    "import math\n"
   ]
  },
  {
   "cell_type": "code",
   "execution_count": 14,
   "id": "a355d181-b8f5-44ab-9874-e2ec08567d38",
   "metadata": {},
   "outputs": [],
   "source": [
    "import warnings"
   ]
  },
  {
   "cell_type": "code",
   "execution_count": null,
   "id": "0754026b-c8d6-47c6-80d4-bb775fb36978",
   "metadata": {},
   "outputs": [],
   "source": []
  }
 ],
 "metadata": {
  "kernelspec": {
   "display_name": "Python 3 (ipykernel)",
   "language": "python",
   "name": "python3"
  },
  "language_info": {
   "codemirror_mode": {
    "name": "ipython",
    "version": 3
   },
   "file_extension": ".py",
   "mimetype": "text/x-python",
   "name": "python",
   "nbconvert_exporter": "python",
   "pygments_lexer": "ipython3",
   "version": "3.7.13"
  }
 },
 "nbformat": 4,
 "nbformat_minor": 5
}
