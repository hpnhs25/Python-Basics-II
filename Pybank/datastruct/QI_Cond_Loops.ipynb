{
 "cells": [
  {
   "cell_type": "markdown",
   "id": "4193e96c-d3ee-4271-a28d-0d1d7de49e91",
   "metadata": {},
   "source": [
    "## Conditions\n"
   ]
  },
  {
   "cell_type": "code",
   "execution_count": 2,
   "id": "73650a81-fcc7-4acc-8860-ec6a10312613",
   "metadata": {},
   "outputs": [
    {
     "name": "stdout",
     "output_type": "stream",
     "text": [
      "We will buy 500 shares of ABC\n"
     ]
    }
   ],
   "source": [
    "stock_price_ABC = 299 # variable condition\n",
    "\n",
    "if (stock_price_ABC < 300):\n",
    "    print(\"We will buy 500 shares of ABC\") # If block is true, then will get executed\n",
    "    \n",
    "elif (stock_price_ABC == 300):\n",
    "    print(\"We will buy 200 shares of ABC\")\n",
    "    \n",
    "elif (stock_price_ABC > 300):\n",
    "    print(\"We will buy 150 shares of ABC\")\n",
    "    \n",
    "    "
   ]
  },
  {
   "cell_type": "code",
   "execution_count": 3,
   "id": "918e1167-f6ea-4e1e-a7ff-bcf3e216a8d0",
   "metadata": {},
   "outputs": [
    {
     "name": "stdout",
     "output_type": "stream",
     "text": [
      "We will buy 200 shares of ABC\n"
     ]
    }
   ],
   "source": [
    "stock_price_ABC = 300 # variable condition\n",
    "\n",
    "if (stock_price_ABC < 300):\n",
    "    print(\"We will buy 500 shares of ABC\") # If block is true, then will get executed\n",
    "    \n",
    "elif (stock_price_ABC == 300):\n",
    "    print(\"We will buy 200 shares of ABC\")\n",
    "    \n",
    "elif (stock_price_ABC > 300):\n",
    "    print(\"We will buy 150 shares of ABC\")\n",
    "    \n",
    "    "
   ]
  },
  {
   "cell_type": "code",
   "execution_count": 5,
   "id": "f8cd8e2a-0495-407a-be01-bb236e85c723",
   "metadata": {},
   "outputs": [
    {
     "name": "stdout",
     "output_type": "stream",
     "text": [
      "We will buy 150 shares of ABC\n"
     ]
    }
   ],
   "source": [
    "stock_price_ABC = 301 # variable condition\n",
    "\n",
    "if (stock_price_ABC < 300):\n",
    "    print(\"We will buy 500 shares of ABC\") # If block is true, then will get executed\n",
    "    \n",
    "elif (stock_price_ABC == 300):\n",
    "    print(\"We will buy 200 shares of ABC\")\n",
    "    \n",
    "elif (stock_price_ABC > 300):\n",
    "    print(\"We will buy 150 shares of ABC\")\n",
    "    \n",
    "    "
   ]
  },
  {
   "cell_type": "code",
   "execution_count": 7,
   "id": "e475f0ad-5faa-4643-866e-01658d1cdd6d",
   "metadata": {},
   "outputs": [
    {
     "name": "stdout",
     "output_type": "stream",
     "text": [
      "We will sell the stock and book a profit\n"
     ]
    }
   ],
   "source": [
    "stock_price_ABC = 300 # variable condition\n",
    "\n",
    "if (stock_price_ABC > 250):\n",
    "    print(\"We will sell the stock and book a profit\") # If block is true, then will get executed\n",
    "    \n",
    "else:\n",
    "    print(\"We will keep buying the stock\")\n",
    "    \n",
    "\n",
    "    \n",
    "    "
   ]
  },
  {
   "cell_type": "code",
   "execution_count": 8,
   "id": "e8499082-8fb2-44eb-821a-3bf3604afb3d",
   "metadata": {},
   "outputs": [
    {
     "name": "stdout",
     "output_type": "stream",
     "text": [
      "We will keep buying the stock\n"
     ]
    }
   ],
   "source": [
    "stock_price_ABC = 200 # variable condition\n",
    "\n",
    "if (stock_price_ABC > 250):\n",
    "    print(\"We will sell the stock and book a profit\") # If block is true, then will get executed\n",
    "    \n",
    "else:\n",
    "    print(\"We will keep buying the stock\")\n",
    "    \n",
    "\n",
    "    \n",
    "    "
   ]
  },
  {
   "cell_type": "markdown",
   "id": "4452cb34-4fba-4171-b74a-83b38dff6def",
   "metadata": {},
   "source": [
    "## Loops"
   ]
  },
  {
   "cell_type": "code",
   "execution_count": 9,
   "id": "afe42570-c6e1-4d95-9fae-77c2636fb16a",
   "metadata": {},
   "outputs": [
    {
     "name": "stdout",
     "output_type": "stream",
     "text": [
      "No new positions\n",
      "We Sell\n",
      "We Buy\n",
      "We Buy\n",
      "We Sell\n",
      "No new positions\n",
      "We Buy\n",
      "No new positions\n",
      "We Buy\n",
      "We Sell\n",
      "We are now out of the loop\n"
     ]
    }
   ],
   "source": [
    "# Closing prices over 10 days\n",
    "\n",
    "Close_Price_ABC = [300, 305, 287, 298, 335, 300, 297, 300, 295, 310]\n",
    "\n",
    "for i in Close_Price_ABC:\n",
    "    \n",
    "    if i < 300:\n",
    "        print(\"We Buy\")\n",
    "    if i == 300:\n",
    "        print(\"No new positions\")\n",
    "    if i > 300:\n",
    "        print(\"We Sell\")\n",
    "        \n",
    "print(\"We are now out of the loop\")\n"
   ]
  },
  {
   "cell_type": "code",
   "execution_count": 10,
   "id": "68ffe81d-f881-4537-bd76-6417bce46c9f",
   "metadata": {},
   "outputs": [
    {
     "name": "stdout",
     "output_type": "stream",
     "text": [
      "1\n",
      "2\n",
      "3\n",
      "4\n",
      "5\n",
      "6\n",
      "7\n",
      "8\n",
      "9\n",
      "10\n",
      "We are now out of the loop\n"
     ]
    }
   ],
   "source": [
    "a = 0\n",
    "\n",
    "while a < 10:\n",
    "    a = a + 1\n",
    "    print(a)\n",
    "print(\"We are now out of the loop\")\n"
   ]
  },
  {
   "cell_type": "code",
   "execution_count": null,
   "id": "58fea2ef-79fb-44ed-bf88-17dedbe9e402",
   "metadata": {},
   "outputs": [],
   "source": []
  }
 ],
 "metadata": {
  "kernelspec": {
   "display_name": "Python 3 (ipykernel)",
   "language": "python",
   "name": "python3"
  },
  "language_info": {
   "codemirror_mode": {
    "name": "ipython",
    "version": 3
   },
   "file_extension": ".py",
   "mimetype": "text/x-python",
   "name": "python",
   "nbconvert_exporter": "python",
   "pygments_lexer": "ipython3",
   "version": "3.7.13"
  }
 },
 "nbformat": 4,
 "nbformat_minor": 5
}
