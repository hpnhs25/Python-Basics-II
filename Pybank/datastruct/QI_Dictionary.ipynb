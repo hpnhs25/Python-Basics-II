{
 "cells": [
  {
   "cell_type": "markdown",
   "id": "b6771c49-0ef0-4daf-b2c9-3e720b08169b",
   "metadata": {},
   "source": [
    "## Dictionaries \n"
   ]
  },
  {
   "cell_type": "code",
   "execution_count": 1,
   "id": "c39a019a-1744-4bf8-aaa6-8c6b60ba83b1",
   "metadata": {},
   "outputs": [
    {
     "data": {
      "text/plain": [
       "dict"
      ]
     },
     "execution_count": 1,
     "metadata": {},
     "output_type": "execute_result"
    }
   ],
   "source": [
    "new_dict = {} # Empty Dictionary\n",
    "\n",
    "type(new_dict)"
   ]
  },
  {
   "cell_type": "code",
   "execution_count": 3,
   "id": "afb19c7e-6900-4db4-8a66-fffb7a27bf27",
   "metadata": {},
   "outputs": [
    {
     "data": {
      "text/plain": [
       "dict"
      ]
     },
     "execution_count": 3,
     "metadata": {},
     "output_type": "execute_result"
    }
   ],
   "source": [
    "# Creating a New Dictionary\n",
    "\n",
    "new_dict = {'Jack':2563, 'Rose':8965, 'Hockley':7412,\n",
    "            'Fabrizo':9632, 'Molly Brown':4563}\n",
    "            \n",
    "type(new_dict)"
   ]
  },
  {
   "cell_type": "code",
   "execution_count": 4,
   "id": "0a763ae1-7135-4c62-adda-61b49406595f",
   "metadata": {},
   "outputs": [
    {
     "name": "stdout",
     "output_type": "stream",
     "text": [
      "{'Jack': 2563, 'Rose': 8965, 'Hockley': 7412, 'Fabrizo': 9632, 'Molly Brown': 4563}\n"
     ]
    }
   ],
   "source": [
    "print(new_dict)"
   ]
  },
  {
   "cell_type": "code",
   "execution_count": 6,
   "id": "2f2e15a0-6724-48ff-b215-a22ba8f0724b",
   "metadata": {},
   "outputs": [
    {
     "data": {
      "text/plain": [
       "2563"
      ]
     },
     "execution_count": 6,
     "metadata": {},
     "output_type": "execute_result"
    }
   ],
   "source": [
    "new_dict['Jack'] # Printing Key Value"
   ]
  },
  {
   "cell_type": "code",
   "execution_count": 7,
   "id": "cf472668-e5ca-49df-a31f-c2ce6cce5608",
   "metadata": {},
   "outputs": [
    {
     "data": {
      "text/plain": [
       "(8965, 7412)"
      ]
     },
     "execution_count": 7,
     "metadata": {},
     "output_type": "execute_result"
    }
   ],
   "source": [
    "new_dict['Rose'], new_dict['Hockley'] # Printing Multiple key Values"
   ]
  },
  {
   "cell_type": "code",
   "execution_count": 8,
   "id": "827088d1-b6ee-42e0-8755-95e882d20d67",
   "metadata": {},
   "outputs": [
    {
     "data": {
      "text/plain": [
       "5"
      ]
     },
     "execution_count": 8,
     "metadata": {},
     "output_type": "execute_result"
    }
   ],
   "source": [
    "len(new_dict) # Know length of Dictionary"
   ]
  },
  {
   "cell_type": "code",
   "execution_count": 9,
   "id": "2abe9714-c7b0-4563-917d-4f02c228a870",
   "metadata": {},
   "outputs": [
    {
     "data": {
      "text/plain": [
       "dict_keys(['Jack', 'Rose', 'Hockley', 'Fabrizo', 'Molly Brown'])"
      ]
     },
     "execution_count": 9,
     "metadata": {},
     "output_type": "execute_result"
    }
   ],
   "source": [
    "new_dict.keys()"
   ]
  },
  {
   "cell_type": "code",
   "execution_count": 10,
   "id": "e8901fdc-0a53-437c-9c98-dc054c299410",
   "metadata": {},
   "outputs": [
    {
     "data": {
      "text/plain": [
       "dict_values([2563, 8965, 7412, 9632, 4563])"
      ]
     },
     "execution_count": 10,
     "metadata": {},
     "output_type": "execute_result"
    }
   ],
   "source": [
    "new_dict.values()"
   ]
  },
  {
   "cell_type": "code",
   "execution_count": 12,
   "id": "8bf2d36d-ff3c-47a4-ab3c-b4bb85015f94",
   "metadata": {},
   "outputs": [
    {
     "name": "stdout",
     "output_type": "stream",
     "text": [
      "{'Jack': 2563, 'Rose': 8965, 'Fabrizo': 9632, 'Molly Brown': 4563}\n"
     ]
    }
   ],
   "source": [
    "del new_dict['Hockley']\n",
    "\n",
    "print(new_dict)"
   ]
  },
  {
   "cell_type": "code",
   "execution_count": 13,
   "id": "9a25d323-3b41-44f0-badb-36b39d7cf5e4",
   "metadata": {},
   "outputs": [
    {
     "data": {
      "text/plain": [
       "9632"
      ]
     },
     "execution_count": 13,
     "metadata": {},
     "output_type": "execute_result"
    }
   ],
   "source": [
    "new_dict.pop('Fabrizo')"
   ]
  },
  {
   "cell_type": "code",
   "execution_count": 14,
   "id": "c8a3c819-b479-4aa9-ab58-48f81925cd28",
   "metadata": {},
   "outputs": [
    {
     "name": "stdout",
     "output_type": "stream",
     "text": [
      "{'Jack': 2563, 'Rose': 8965, 'Molly Brown': 4563}\n"
     ]
    }
   ],
   "source": [
    "print(new_dict)"
   ]
  },
  {
   "cell_type": "code",
   "execution_count": 15,
   "id": "9e892159-1211-4aa7-b89f-eee0af04f5ff",
   "metadata": {},
   "outputs": [
    {
     "data": {
      "text/plain": [
       "['Jack', 'Molly Brown', 'Rose']"
      ]
     },
     "execution_count": 15,
     "metadata": {},
     "output_type": "execute_result"
    }
   ],
   "source": [
    "sorted(new_dict) # key sorted by values"
   ]
  },
  {
   "cell_type": "code",
   "execution_count": 16,
   "id": "9f640bf2-ba2d-4f5b-a848-25a08826802e",
   "metadata": {},
   "outputs": [
    {
     "name": "stdout",
     "output_type": "stream",
     "text": [
      "{'Jack': 2563, 'Rose': 8965, 'Molly Brown': 4563}\n",
      "{}\n"
     ]
    }
   ],
   "source": [
    "print(new_dict)\n",
    "\n",
    "new_dict.clear()\n",
    "\n",
    "print(new_dict)"
   ]
  },
  {
   "cell_type": "code",
   "execution_count": null,
   "id": "b4d8f3ae-4d59-4402-970f-5c79911ed112",
   "metadata": {},
   "outputs": [],
   "source": []
  }
 ],
 "metadata": {
  "kernelspec": {
   "display_name": "Python 3 (ipykernel)",
   "language": "python",
   "name": "python3"
  },
  "language_info": {
   "codemirror_mode": {
    "name": "ipython",
    "version": 3
   },
   "file_extension": ".py",
   "mimetype": "text/x-python",
   "name": "python",
   "nbconvert_exporter": "python",
   "pygments_lexer": "ipython3",
   "version": "3.7.13"
  }
 },
 "nbformat": 4,
 "nbformat_minor": 5
}
