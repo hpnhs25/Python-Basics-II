{
 "cells": [
  {
   "cell_type": "code",
   "execution_count": 3,
   "id": "8fd9c76a-658a-43d0-a220-1c00ed0ecbe4",
   "metadata": {},
   "outputs": [
    {
     "ename": "SyntaxError",
     "evalue": "invalid syntax (3116567160.py, line 15)",
     "output_type": "error",
     "traceback": [
      "\u001b[0;36m  File \u001b[0;32m\"/var/folders/xy/k59txcd50rb0zdm67xzd2nsc0000gn/T/ipykernel_16311/3116567160.py\"\u001b[0;36m, line \u001b[0;32m15\u001b[0m\n\u001b[0;31m    If question_sandwich in \"Y\" or \"y\":\u001b[0m\n\u001b[0m     ^\u001b[0m\n\u001b[0;31mSyntaxError\u001b[0m\u001b[0;31m:\u001b[0m invalid syntax\n"
     ]
    }
   ],
   "source": [
    "\n",
    "# Declare a variable `welcome_name` as an input with a string of \"Welcome to the sandwich shop, what do I call you? \".\n",
    "welcome_name = \"Welcome to the sandwich shop, what do I call you?\"\n",
    "\n",
    "# Then print the string \"Hello\" concatenated with the variable `welcome_name`.\n",
    "print(f\"Hello, {welcome_name}\")\n",
    "\n",
    "# Declare a variable `question_sandwich` as an input with a string of \"Are you here for a sandwich? (Y/N) \".\n",
    "question_sandwich = [\"Are you here for a sandwich? (Y/N)\"\n",
    "\n",
    "\n",
    "# If `question_sandwich` is equal to \"Y\" or \"y\" declare a variable `food_prompt` as an input with a string of \"What kind of sandwich would you like?\".\n",
    "# Then print a string of \"Please wait 10 min for your \" concatenated with the variable `food_prompt`.\n",
    "# Else If `question_sandwich` is \"N\" or \"n\", print a string of \"If you don't want a sandwich what are you here for?!\".\n",
    "# Else print a string of \"You did not write Y or N!\"\n",
    "\n",
    "If question_sandwich in \"Y\" or \"y\":\n",
    "    food_prompt = \"What kind of sandwich would you like?\"\n",
    "        print(f\"Please wait 10 min for your {food_prompt})\n",
    "elif question_sandwich in \"N\" or \"n\":\n",
    "    print(f\"If you don't want a sandwich what are you here for?\")\n",
    "else:\n",
    "    print(f\"You did not write a Y or N!\")\n",
    "\n"
   ]
  },
  {
   "cell_type": "code",
   "execution_count": null,
   "id": "5259ffea-01db-4cbc-a917-e7e01642d0bb",
   "metadata": {},
   "outputs": [],
   "source": []
  }
 ],
 "metadata": {
  "kernelspec": {
   "display_name": "Python 3 (ipykernel)",
   "language": "python",
   "name": "python3"
  },
  "language_info": {
   "codemirror_mode": {
    "name": "ipython",
    "version": 3
   },
   "file_extension": ".py",
   "mimetype": "text/x-python",
   "name": "python",
   "nbconvert_exporter": "python",
   "pygments_lexer": "ipython3",
   "version": "3.7.13"
  }
 },
 "nbformat": 4,
 "nbformat_minor": 5
}
