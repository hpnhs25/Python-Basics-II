{
 "cells": [
  {
   "cell_type": "markdown",
   "id": "900e57e5-a718-451f-91c4-5672623d8365",
   "metadata": {},
   "source": [
    "## Lists"
   ]
  },
  {
   "cell_type": "code",
   "execution_count": 1,
   "id": "7fd6b768-a60d-47f7-b769-e323a4371521",
   "metadata": {},
   "outputs": [
    {
     "data": {
      "text/plain": [
       "list"
      ]
     },
     "execution_count": 1,
     "metadata": {},
     "output_type": "execute_result"
    }
   ],
   "source": [
    "new_list = [] # Empty List\n",
    "type(new_list)"
   ]
  },
  {
   "cell_type": "code",
   "execution_count": 2,
   "id": "66480df5-c129-462b-91bb-dacd65bb78ba",
   "metadata": {},
   "outputs": [
    {
     "data": {
      "text/plain": [
       "list"
      ]
     },
     "execution_count": 2,
     "metadata": {},
     "output_type": "execute_result"
    }
   ],
   "source": [
    "new_list = [10, 20, 30, 40] # List of Integers\n",
    "type(new_list)"
   ]
  },
  {
   "cell_type": "code",
   "execution_count": 3,
   "id": "b80d053f-f808-42b9-bf73-9b13690b4ba1",
   "metadata": {},
   "outputs": [
    {
     "data": {
      "text/plain": [
       "list"
      ]
     },
     "execution_count": 3,
     "metadata": {},
     "output_type": "execute_result"
    }
   ],
   "source": [
    "new_list = [10, 20.2, \"thirty\", 40] # A list of mixed data types\n",
    "type(new_list)"
   ]
  },
  {
   "cell_type": "code",
   "execution_count": 4,
   "id": "a071d4cc-8c64-4093-955c-0e861ae5ab60",
   "metadata": {},
   "outputs": [
    {
     "data": {
      "text/plain": [
       "list"
      ]
     },
     "execution_count": 4,
     "metadata": {},
     "output_type": "execute_result"
    }
   ],
   "source": [
    "new_list = [[10, 20, 30], [10.1, 20.2, 30.3], [\"ten\", \"twemty\", \"thirty\"]] # A nested list\n",
    "type(new_list)"
   ]
  },
  {
   "cell_type": "code",
   "execution_count": 5,
   "id": "a71ed5e6-2ec9-4476-b7fa-2a254ddbb6ba",
   "metadata": {},
   "outputs": [
    {
     "data": {
      "text/plain": [
       "list"
      ]
     },
     "execution_count": 5,
     "metadata": {},
     "output_type": "execute_result"
    }
   ],
   "source": [
    "new_list = [10, [20.2, [\"thirty\", [40]]]] # A deeply nested list\n",
    "type(new_list)"
   ]
  },
  {
   "cell_type": "code",
   "execution_count": 6,
   "id": "1d537436-cf8a-44f9-b95b-56a60fd394bc",
   "metadata": {},
   "outputs": [
    {
     "name": "stdout",
     "output_type": "stream",
     "text": [
      "[10, 20, 30, 40]\n"
     ]
    }
   ],
   "source": [
    "my_list = [10, 20, 30, 40] #This is the original list which you created\n",
    "print(my_list)"
   ]
  },
  {
   "cell_type": "code",
   "execution_count": 7,
   "id": "951634c2-6f87-41c8-ab7b-26a46980adea",
   "metadata": {},
   "outputs": [
    {
     "name": "stdout",
     "output_type": "stream",
     "text": [
      "[10, 20, 30, 40, 50]\n"
     ]
    }
   ],
   "source": [
    "my_list.append(50)\n",
    "print(my_list)"
   ]
  },
  {
   "cell_type": "code",
   "execution_count": 8,
   "id": "dde3c9d8-69cf-4e8f-b848-a5db6e95fc4f",
   "metadata": {},
   "outputs": [
    {
     "name": "stdout",
     "output_type": "stream",
     "text": [
      "[10, 20, 30, 40, 50, 60, 70, 80, 90]\n"
     ]
    }
   ],
   "source": [
    "my_list.extend([60, 70, 80, 90])\n",
    "print(my_list)"
   ]
  },
  {
   "cell_type": "code",
   "execution_count": 9,
   "id": "965cc3a6-01c1-4e40-9546-0269b52294fb",
   "metadata": {},
   "outputs": [
    {
     "name": "stdout",
     "output_type": "stream",
     "text": [
      "[0, 10, 20, 30, 40, 50, 60, 70, 80, 90]\n"
     ]
    }
   ],
   "source": [
    "\n",
    "my_list.insert(0, 0)\n",
    "print(my_list)"
   ]
  },
  {
   "cell_type": "code",
   "execution_count": 10,
   "id": "f9bebf37-4a26-4cca-b1b9-f403de44ea4f",
   "metadata": {},
   "outputs": [
    {
     "name": "stdout",
     "output_type": "stream",
     "text": [
      "[0, 10, 20, 30, 40, 50, 60, 70, 80, 90, 100]\n"
     ]
    }
   ],
   "source": [
    "my_list.insert(10, 100)\n",
    "print(my_list)"
   ]
  },
  {
   "cell_type": "code",
   "execution_count": 11,
   "id": "c6f2bd23-ed7d-4994-8d29-42a2784f03b2",
   "metadata": {},
   "outputs": [
    {
     "name": "stdout",
     "output_type": "stream",
     "text": [
      "[0, 10, 20, 30, 40, 50, 55, 60, 70, 80, 90, 100]\n"
     ]
    }
   ],
   "source": [
    "my_list.insert(6, 55)\n",
    "print(my_list)"
   ]
  },
  {
   "cell_type": "code",
   "execution_count": 12,
   "id": "1a5966db-4afa-4f90-8d9d-5c7115905cbf",
   "metadata": {},
   "outputs": [
    {
     "name": "stdout",
     "output_type": "stream",
     "text": [
      "[10, 20, 30, 40, 50, 55, 60, 70, 80, 90, 100]\n"
     ]
    }
   ],
   "source": [
    "my_list.remove(0)\n",
    "print(my_list)"
   ]
  },
  {
   "cell_type": "code",
   "execution_count": 13,
   "id": "c2970c3f-66b8-4113-b65c-a0f343549abf",
   "metadata": {},
   "outputs": [
    {
     "data": {
      "text/plain": [
       "4"
      ]
     },
     "execution_count": 13,
     "metadata": {},
     "output_type": "execute_result"
    }
   ],
   "source": [
    "my_list.index(50)"
   ]
  },
  {
   "cell_type": "code",
   "execution_count": 14,
   "id": "8c2befb0-508c-401d-8d8b-3d3a5d6e3d18",
   "metadata": {},
   "outputs": [
    {
     "data": {
      "text/plain": [
       "0"
      ]
     },
     "execution_count": 14,
     "metadata": {},
     "output_type": "execute_result"
    }
   ],
   "source": [
    "my_list.index(10)"
   ]
  },
  {
   "cell_type": "code",
   "execution_count": 15,
   "id": "b966f7ac-75ee-42db-b325-26f87046f705",
   "metadata": {},
   "outputs": [
    {
     "data": {
      "text/plain": [
       "10"
      ]
     },
     "execution_count": 15,
     "metadata": {},
     "output_type": "execute_result"
    }
   ],
   "source": [
    "my_list.index(100)"
   ]
  },
  {
   "cell_type": "code",
   "execution_count": 16,
   "id": "ad0bf5b5-960f-44b0-a02b-111c19804713",
   "metadata": {},
   "outputs": [
    {
     "data": {
      "text/plain": [
       "3"
      ]
     },
     "execution_count": 16,
     "metadata": {},
     "output_type": "execute_result"
    }
   ],
   "source": [
    "new_list = [10, 10, 10, 20, 30, 40, 50]\n",
    "\n",
    "new_list.count(10)\n"
   ]
  },
  {
   "cell_type": "code",
   "execution_count": 17,
   "id": "e9be2014-ab1f-4001-ad61-c79986f93fca",
   "metadata": {},
   "outputs": [
    {
     "name": "stdout",
     "output_type": "stream",
     "text": [
      "[10, 20, 30, 40, 50, 55, 60, 70, 80, 90, 100]\n"
     ]
    }
   ],
   "source": [
    "print(my_list)"
   ]
  },
  {
   "cell_type": "code",
   "execution_count": 18,
   "id": "34d0c8a6-6edc-4264-9589-2f518eb61719",
   "metadata": {},
   "outputs": [
    {
     "name": "stdout",
     "output_type": "stream",
     "text": [
      "[100, 90, 80, 70, 60, 55, 50, 40, 30, 20, 10]\n"
     ]
    }
   ],
   "source": [
    "my_list.reverse()\n",
    "print(my_list)"
   ]
  },
  {
   "cell_type": "code",
   "execution_count": 21,
   "id": "ef452047-0488-4044-acd5-a6188bc6591a",
   "metadata": {},
   "outputs": [
    {
     "name": "stdout",
     "output_type": "stream",
     "text": [
      "[12, 35, 76, 20, 56, 34, 65]\n"
     ]
    }
   ],
   "source": [
    "new_list = [12, 35, 76, 20, 56, 34, 65]\n",
    "print(new_list)"
   ]
  },
  {
   "cell_type": "code",
   "execution_count": 22,
   "id": "737515cc-8f83-43e9-a7a3-638daddb9c2d",
   "metadata": {},
   "outputs": [
    {
     "name": "stdout",
     "output_type": "stream",
     "text": [
      "[12, 20, 34, 35, 56, 65, 76]\n"
     ]
    }
   ],
   "source": [
    "new_list.sort()\n",
    "\n",
    "print(new_list)"
   ]
  },
  {
   "cell_type": "markdown",
   "id": "2ada0021-ce4a-4c25-9777-a721c7cbd4bb",
   "metadata": {},
   "source": [
    "### List as Stacks\n"
   ]
  },
  {
   "cell_type": "code",
   "execution_count": 24,
   "id": "bd153dbc-4fda-484d-8374-f97496f7378a",
   "metadata": {},
   "outputs": [
    {
     "name": "stdout",
     "output_type": "stream",
     "text": [
      "[10, 20, 30, 40, 50, 60]\n"
     ]
    }
   ],
   "source": [
    "# Bottom --> 10, 20, 30, 40, 50 --> Top\n",
    "\n",
    "my_stack = [10, 20, 30, 40, 50] # List\n",
    "\n",
    "my_stack.append(60) # The push operation\n",
    "\n",
    "print(my_stack)"
   ]
  },
  {
   "cell_type": "code",
   "execution_count": 25,
   "id": "8213edd8-859a-44be-8e79-87876fdd8864",
   "metadata": {},
   "outputs": [
    {
     "name": "stdout",
     "output_type": "stream",
     "text": [
      "[10, 20, 30, 40]\n"
     ]
    }
   ],
   "source": [
    "# Bottom --> 10, 20, 30, 40, 50, 60 --> Top\n",
    "\n",
    "my_stack.pop() # The pop operation\n",
    "\n",
    "my_stack.pop() # Same Operaton Twice\n",
    "\n",
    "print(my_stack) # From the Top 50 and 60 will be removed"
   ]
  },
  {
   "cell_type": "markdown",
   "id": "16e852a2-7e42-4676-bb17-2f5e307be4c8",
   "metadata": {},
   "source": [
    "### List as Queues"
   ]
  },
  {
   "cell_type": "code",
   "execution_count": 27,
   "id": "6aa79aba-28d6-4c28-99b2-a9969ad443cb",
   "metadata": {},
   "outputs": [
    {
     "name": "stdout",
     "output_type": "stream",
     "text": [
      "deque(['Roger Federer', 'Rafael Nadal', 'Novak Djokavic', 'Andre Agassi', 'Pete Sampras'])\n"
     ]
    }
   ],
   "source": [
    "# 'collections' is a package that contains high performance data types\n",
    "\n",
    "# 'deque' is a list like container with fast appends and pops on both ends\n",
    "\n",
    "from collections import deque\n",
    "\n",
    "# This is your queue, \"Roger Federer\" is the first to arrive while \"Novak Djokavic\" is the last\n",
    "\n",
    "my_queue = deque([\"Roger Federer\", \"Rafael Nadal\", \"Novak Djokavic\"])\n",
    "\n",
    "my_queue.append(\"Andre Agassi\") # Andre arrives\n",
    "\n",
    "my_queue.append(\"Pete Sampras\") # Pete arrives\n",
    "\n",
    "print(my_queue)"
   ]
  },
  {
   "cell_type": "code",
   "execution_count": 28,
   "id": "4d462c6f-2d97-4bcd-9b5c-53d47c1ecf10",
   "metadata": {},
   "outputs": [
    {
     "data": {
      "text/plain": [
       "'Roger Federer'"
      ]
     },
     "execution_count": 28,
     "metadata": {},
     "output_type": "execute_result"
    }
   ],
   "source": [
    "my_queue.popleft() # The first to arrive leaves first"
   ]
  },
  {
   "cell_type": "code",
   "execution_count": 29,
   "id": "7b850b3e-e251-418e-9d46-bbe1fce76ed8",
   "metadata": {},
   "outputs": [
    {
     "data": {
      "text/plain": [
       "'Rafael Nadal'"
      ]
     },
     "execution_count": 29,
     "metadata": {},
     "output_type": "execute_result"
    }
   ],
   "source": [
    "my_queue.popleft() # The first to arrive leaves first"
   ]
  },
  {
   "cell_type": "code",
   "execution_count": 30,
   "id": "e0203c10-8f85-4894-a27f-2b7f39c79422",
   "metadata": {},
   "outputs": [
    {
     "name": "stdout",
     "output_type": "stream",
     "text": [
      "deque(['Novak Djokavic', 'Andre Agassi', 'Pete Sampras'])\n"
     ]
    }
   ],
   "source": [
    "print(my_queue)"
   ]
  },
  {
   "cell_type": "code",
   "execution_count": null,
   "id": "e75cc1e0-04ea-4e30-96ce-fee8a5c8b6f1",
   "metadata": {},
   "outputs": [],
   "source": []
  }
 ],
 "metadata": {
  "kernelspec": {
   "display_name": "Python 3 (ipykernel)",
   "language": "python",
   "name": "python3"
  },
  "language_info": {
   "codemirror_mode": {
    "name": "ipython",
    "version": 3
   },
   "file_extension": ".py",
   "mimetype": "text/x-python",
   "name": "python",
   "nbconvert_exporter": "python",
   "pygments_lexer": "ipython3",
   "version": "3.7.13"
  }
 },
 "nbformat": 4,
 "nbformat_minor": 5
}
