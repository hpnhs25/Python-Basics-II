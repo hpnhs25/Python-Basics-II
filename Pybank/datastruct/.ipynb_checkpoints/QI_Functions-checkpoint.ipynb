{
 "cells": [
  {
   "cell_type": "markdown",
   "id": "623e8d5f-bd20-47a1-bf36-ff5079f9ccd3",
   "metadata": {},
   "source": [
    "## Functions"
   ]
  },
  {
   "cell_type": "code",
   "execution_count": 2,
   "id": "45186df1-bfe2-47b7-9e6f-4f81725e1824",
   "metadata": {},
   "outputs": [
    {
     "data": {
      "text/plain": [
       "100"
      ]
     },
     "execution_count": 2,
     "metadata": {},
     "output_type": "execute_result"
    }
   ],
   "source": [
    "def my_function(x, n):\n",
    "    output = x ** n\n",
    "    return output\n",
    "\n",
    "my_function(10, 2)\n",
    "\n",
    "#my_function(5, 3)\n"
   ]
  },
  {
   "cell_type": "code",
   "execution_count": 3,
   "id": "e5596540-7cfd-4bfc-bf80-de798e601c0d",
   "metadata": {},
   "outputs": [
    {
     "data": {
      "text/plain": [
       "125"
      ]
     },
     "execution_count": 3,
     "metadata": {},
     "output_type": "execute_result"
    }
   ],
   "source": [
    "def my_function(x, n):\n",
    "    output = x ** n\n",
    "    return output\n",
    "\n",
    "#my_function(10, 2)\n",
    "\n",
    "my_function(5, 3)\n"
   ]
  },
  {
   "cell_type": "code",
   "execution_count": null,
   "id": "19ac9530-aadc-4ce4-83bd-838bb3074c25",
   "metadata": {},
   "outputs": [],
   "source": [
    "## Bollinger Bands\n",
    "\n",
    "def bollinger_Bands(data, n):\n",
    "    MA = data['Close'].rolling(window=n).mean()\n",
    "    SD = data['Close'].rolling(window=n).std()\n",
    "    \n",
    "    data['Lower_BB'] = MA - (2 * SD)\n",
    "    data['Upper_BB'] = MA + (2 * SD)\n",
    "    \n",
    "    return data\n",
    "\n",
    "n = 21"
   ]
  },
  {
   "cell_type": "code",
   "execution_count": null,
   "id": "e0812d62-9d65-444b-a2ff-34e00e42e8ec",
   "metadata": {},
   "outputs": [],
   "source": []
  },
  {
   "cell_type": "code",
   "execution_count": 2,
   "id": "e14aa881-7b5f-4270-a28a-a9f4b927268c",
   "metadata": {},
   "outputs": [
    {
     "name": "stdout",
     "output_type": "stream",
     "text": [
      "Collecting yfinance\n",
      "  Downloading yfinance-0.2.14-py2.py3-none-any.whl (59 kB)\n",
      "\u001b[2K     \u001b[90m━━━━━━━━━━━━━━━━━━━━━━━━━━━━━━━━━━━━━━━━\u001b[0m \u001b[32m59.7/59.7 kB\u001b[0m \u001b[31m2.8 MB/s\u001b[0m eta \u001b[36m0:00:00\u001b[0m\n",
      "\u001b[?25hRequirement already satisfied: cryptography>=3.3.2 in /Applications/anaconda3/envs/dev/lib/python3.7/site-packages (from yfinance) (37.0.1)\n",
      "Requirement already satisfied: requests>=2.26 in /Applications/anaconda3/envs/dev/lib/python3.7/site-packages (from yfinance) (2.28.1)\n",
      "Requirement already satisfied: pandas>=1.3.0 in /Applications/anaconda3/envs/dev/lib/python3.7/site-packages (from yfinance) (1.3.5)\n",
      "Collecting multitasking>=0.0.7\n",
      "  Downloading multitasking-0.0.11-py3-none-any.whl (8.5 kB)\n",
      "Requirement already satisfied: beautifulsoup4>=4.11.1 in /Applications/anaconda3/envs/dev/lib/python3.7/site-packages (from yfinance) (4.11.1)\n",
      "Requirement already satisfied: lxml>=4.9.1 in /Applications/anaconda3/envs/dev/lib/python3.7/site-packages (from yfinance) (4.9.1)\n",
      "Requirement already satisfied: appdirs>=1.4.4 in /Applications/anaconda3/envs/dev/lib/python3.7/site-packages (from yfinance) (1.4.4)\n",
      "Collecting frozendict>=2.3.4\n",
      "  Downloading frozendict-2.3.6-cp37-cp37m-macosx_10_9_x86_64.whl (34 kB)\n",
      "Collecting html5lib>=1.1\n",
      "  Downloading html5lib-1.1-py2.py3-none-any.whl (112 kB)\n",
      "\u001b[2K     \u001b[90m━━━━━━━━━━━━━━━━━━━━━━━━━━━━━━━━━━━━━━━\u001b[0m \u001b[32m112.2/112.2 kB\u001b[0m \u001b[31m5.4 MB/s\u001b[0m eta \u001b[36m0:00:00\u001b[0m\n",
      "\u001b[?25hCollecting pytz>=2022.5\n",
      "  Downloading pytz-2023.2-py2.py3-none-any.whl (502 kB)\n",
      "\u001b[2K     \u001b[90m━━━━━━━━━━━━━━━━━━━━━━━━━━━━━━━━━━━━━━\u001b[0m \u001b[32m502.1/502.1 kB\u001b[0m \u001b[31m11.4 MB/s\u001b[0m eta \u001b[36m0:00:00\u001b[0m00:01\u001b[0m\n",
      "\u001b[?25hRequirement already satisfied: numpy>=1.16.5 in /Applications/anaconda3/envs/dev/lib/python3.7/site-packages (from yfinance) (1.21.5)\n",
      "Requirement already satisfied: soupsieve>1.2 in /Applications/anaconda3/envs/dev/lib/python3.7/site-packages (from beautifulsoup4>=4.11.1->yfinance) (2.3.1)\n",
      "Requirement already satisfied: cffi>=1.12 in /Applications/anaconda3/envs/dev/lib/python3.7/site-packages (from cryptography>=3.3.2->yfinance) (1.15.1)\n",
      "Requirement already satisfied: webencodings in /Applications/anaconda3/envs/dev/lib/python3.7/site-packages (from html5lib>=1.1->yfinance) (0.5.1)\n",
      "Requirement already satisfied: six>=1.9 in /Applications/anaconda3/envs/dev/lib/python3.7/site-packages (from html5lib>=1.1->yfinance) (1.16.0)\n",
      "Requirement already satisfied: python-dateutil>=2.7.3 in /Applications/anaconda3/envs/dev/lib/python3.7/site-packages (from pandas>=1.3.0->yfinance) (2.8.2)\n",
      "Requirement already satisfied: urllib3<1.27,>=1.21.1 in /Applications/anaconda3/envs/dev/lib/python3.7/site-packages (from requests>=2.26->yfinance) (1.26.11)\n",
      "Requirement already satisfied: certifi>=2017.4.17 in /Applications/anaconda3/envs/dev/lib/python3.7/site-packages (from requests>=2.26->yfinance) (2022.9.24)\n",
      "Requirement already satisfied: idna<4,>=2.5 in /Applications/anaconda3/envs/dev/lib/python3.7/site-packages (from requests>=2.26->yfinance) (3.3)\n",
      "Requirement already satisfied: charset-normalizer<3,>=2 in /Applications/anaconda3/envs/dev/lib/python3.7/site-packages (from requests>=2.26->yfinance) (2.0.4)\n",
      "Requirement already satisfied: pycparser in /Applications/anaconda3/envs/dev/lib/python3.7/site-packages (from cffi>=1.12->cryptography>=3.3.2->yfinance) (2.21)\n",
      "Installing collected packages: pytz, multitasking, html5lib, frozendict, yfinance\n",
      "  Attempting uninstall: pytz\n",
      "    Found existing installation: pytz 2022.1\n",
      "    Uninstalling pytz-2022.1:\n",
      "      Successfully uninstalled pytz-2022.1\n",
      "Successfully installed frozendict-2.3.6 html5lib-1.1 multitasking-0.0.11 pytz-2023.2 yfinance-0.2.14\n"
     ]
    }
   ],
   "source": [
    "!pip install yfinance"
   ]
  },
  {
   "cell_type": "code",
   "execution_count": 8,
   "id": "5617643f-088c-4dd1-b283-dbec031b8542",
   "metadata": {},
   "outputs": [
    {
     "name": "stdout",
     "output_type": "stream",
     "text": [
      "[*********************100%***********************]  1 of 1 completed\n"
     ]
    },
    {
     "data": {
      "text/html": [
       "<div>\n",
       "<style scoped>\n",
       "    .dataframe tbody tr th:only-of-type {\n",
       "        vertical-align: middle;\n",
       "    }\n",
       "\n",
       "    .dataframe tbody tr th {\n",
       "        vertical-align: top;\n",
       "    }\n",
       "\n",
       "    .dataframe thead th {\n",
       "        text-align: right;\n",
       "    }\n",
       "</style>\n",
       "<table border=\"1\" class=\"dataframe\">\n",
       "  <thead>\n",
       "    <tr style=\"text-align: right;\">\n",
       "      <th></th>\n",
       "      <th>Open</th>\n",
       "      <th>High</th>\n",
       "      <th>Low</th>\n",
       "      <th>Close</th>\n",
       "      <th>Adj Close</th>\n",
       "      <th>Volume</th>\n",
       "    </tr>\n",
       "    <tr>\n",
       "      <th>Date</th>\n",
       "      <th></th>\n",
       "      <th></th>\n",
       "      <th></th>\n",
       "      <th></th>\n",
       "      <th></th>\n",
       "      <th></th>\n",
       "    </tr>\n",
       "  </thead>\n",
       "  <tbody>\n",
       "    <tr>\n",
       "      <th>2023-01-03</th>\n",
       "      <td>130.279999</td>\n",
       "      <td>130.899994</td>\n",
       "      <td>124.169998</td>\n",
       "      <td>125.070000</td>\n",
       "      <td>124.879326</td>\n",
       "      <td>112117500</td>\n",
       "    </tr>\n",
       "    <tr>\n",
       "      <th>2023-01-04</th>\n",
       "      <td>126.889999</td>\n",
       "      <td>128.660004</td>\n",
       "      <td>125.080002</td>\n",
       "      <td>126.360001</td>\n",
       "      <td>126.167366</td>\n",
       "      <td>89113600</td>\n",
       "    </tr>\n",
       "    <tr>\n",
       "      <th>2023-01-05</th>\n",
       "      <td>127.129997</td>\n",
       "      <td>127.769997</td>\n",
       "      <td>124.760002</td>\n",
       "      <td>125.019997</td>\n",
       "      <td>124.829399</td>\n",
       "      <td>80962700</td>\n",
       "    </tr>\n",
       "    <tr>\n",
       "      <th>2023-01-06</th>\n",
       "      <td>126.010002</td>\n",
       "      <td>130.289993</td>\n",
       "      <td>124.889999</td>\n",
       "      <td>129.619995</td>\n",
       "      <td>129.422394</td>\n",
       "      <td>87754700</td>\n",
       "    </tr>\n",
       "    <tr>\n",
       "      <th>2023-01-09</th>\n",
       "      <td>130.470001</td>\n",
       "      <td>133.410004</td>\n",
       "      <td>129.889999</td>\n",
       "      <td>130.149994</td>\n",
       "      <td>129.951584</td>\n",
       "      <td>70790800</td>\n",
       "    </tr>\n",
       "  </tbody>\n",
       "</table>\n",
       "</div>"
      ],
      "text/plain": [
       "                  Open        High         Low       Close   Adj Close  \\\n",
       "Date                                                                     \n",
       "2023-01-03  130.279999  130.899994  124.169998  125.070000  124.879326   \n",
       "2023-01-04  126.889999  128.660004  125.080002  126.360001  126.167366   \n",
       "2023-01-05  127.129997  127.769997  124.760002  125.019997  124.829399   \n",
       "2023-01-06  126.010002  130.289993  124.889999  129.619995  129.422394   \n",
       "2023-01-09  130.470001  133.410004  129.889999  130.149994  129.951584   \n",
       "\n",
       "               Volume  \n",
       "Date                   \n",
       "2023-01-03  112117500  \n",
       "2023-01-04   89113600  \n",
       "2023-01-05   80962700  \n",
       "2023-01-06   87754700  \n",
       "2023-01-09   70790800  "
      ]
     },
     "execution_count": 8,
     "metadata": {},
     "output_type": "execute_result"
    }
   ],
   "source": [
    "import yfinance as yf\n",
    "data = yf.download('AAPL',start='2023-01-01', end='2023-03-24')\n",
    "data.head()\n"
   ]
  },
  {
   "cell_type": "code",
   "execution_count": 9,
   "id": "3e46b744-adff-4eac-a50a-94e78ced8541",
   "metadata": {},
   "outputs": [
    {
     "data": {
      "text/plain": [
       "56"
      ]
     },
     "execution_count": 9,
     "metadata": {},
     "output_type": "execute_result"
    }
   ],
   "source": [
    "len(data)"
   ]
  },
  {
   "cell_type": "code",
   "execution_count": 10,
   "id": "5c5b4669-0ccb-4973-8395-739a20a9c2a5",
   "metadata": {},
   "outputs": [
    {
     "data": {
      "text/plain": [
       "pandas.core.frame.DataFrame"
      ]
     },
     "execution_count": 10,
     "metadata": {},
     "output_type": "execute_result"
    }
   ],
   "source": [
    "type(data)"
   ]
  },
  {
   "cell_type": "code",
   "execution_count": 15,
   "id": "888f86b2-3b82-4f28-9b65-9bc92e7da077",
   "metadata": {},
   "outputs": [],
   "source": [
    "\n",
    "appl = data[['Close']]"
   ]
  },
  {
   "cell_type": "code",
   "execution_count": 16,
   "id": "c8f3de76-1bab-4089-952c-c16ca925e617",
   "metadata": {},
   "outputs": [
    {
     "data": {
      "text/plain": [
       "pandas.core.frame.DataFrame"
      ]
     },
     "execution_count": 16,
     "metadata": {},
     "output_type": "execute_result"
    }
   ],
   "source": [
    "type(appl)"
   ]
  },
  {
   "cell_type": "code",
   "execution_count": 17,
   "id": "d8bac333-353c-44d6-a5e8-99158d718cc0",
   "metadata": {},
   "outputs": [
    {
     "name": "stdout",
     "output_type": "stream",
     "text": [
      "                 Close\n",
      "Date                  \n",
      "2023-01-03  125.070000\n",
      "2023-01-04  126.360001\n",
      "2023-01-05  125.019997\n",
      "2023-01-06  129.619995\n",
      "2023-01-09  130.149994\n",
      "2023-01-10  130.729996\n",
      "2023-01-11  133.490005\n",
      "2023-01-12  133.410004\n",
      "2023-01-13  134.759995\n",
      "2023-01-17  135.940002\n",
      "2023-01-18  135.210007\n",
      "2023-01-19  135.270004\n",
      "2023-01-20  137.869995\n",
      "2023-01-23  141.110001\n",
      "2023-01-24  142.529999\n",
      "2023-01-25  141.860001\n",
      "2023-01-26  143.960007\n",
      "2023-01-27  145.929993\n",
      "2023-01-30  143.000000\n",
      "2023-01-31  144.289993\n",
      "2023-02-01  145.429993\n",
      "2023-02-02  150.820007\n",
      "2023-02-03  154.500000\n",
      "2023-02-06  151.729996\n",
      "2023-02-07  154.649994\n",
      "2023-02-08  151.919998\n",
      "2023-02-09  150.869995\n",
      "2023-02-10  151.009995\n",
      "2023-02-13  153.850006\n",
      "2023-02-14  153.199997\n",
      "2023-02-15  155.330002\n",
      "2023-02-16  153.710007\n",
      "2023-02-17  152.550003\n",
      "2023-02-21  148.479996\n",
      "2023-02-22  148.910004\n",
      "2023-02-23  149.399994\n",
      "2023-02-24  146.710007\n",
      "2023-02-27  147.919998\n",
      "2023-02-28  147.410004\n",
      "2023-03-01  145.309998\n",
      "2023-03-02  145.910004\n",
      "2023-03-03  151.029999\n",
      "2023-03-06  153.830002\n",
      "2023-03-07  151.600006\n",
      "2023-03-08  152.869995\n",
      "2023-03-09  150.589996\n",
      "2023-03-10  148.500000\n",
      "2023-03-13  150.470001\n",
      "2023-03-14  152.589996\n",
      "2023-03-15  152.990005\n",
      "2023-03-16  155.850006\n",
      "2023-03-17  155.000000\n",
      "2023-03-20  157.399994\n",
      "2023-03-21  159.279999\n",
      "2023-03-22  157.830002\n",
      "2023-03-23  158.929993\n"
     ]
    }
   ],
   "source": [
    "print(appl)"
   ]
  },
  {
   "cell_type": "code",
   "execution_count": 22,
   "id": "d8a578e3-67c5-4ffc-8c76-593418b3ca4b",
   "metadata": {},
   "outputs": [
    {
     "name": "stderr",
     "output_type": "stream",
     "text": [
      "/Applications/anaconda3/envs/dev/lib/python3.7/site-packages/ipykernel_launcher.py:7: SettingWithCopyWarning: \n",
      "A value is trying to be set on a copy of a slice from a DataFrame.\n",
      "Try using .loc[row_indexer,col_indexer] = value instead\n",
      "\n",
      "See the caveats in the documentation: https://pandas.pydata.org/pandas-docs/stable/user_guide/indexing.html#returning-a-view-versus-a-copy\n",
      "  import sys\n",
      "/Applications/anaconda3/envs/dev/lib/python3.7/site-packages/ipykernel_launcher.py:8: SettingWithCopyWarning: \n",
      "A value is trying to be set on a copy of a slice from a DataFrame.\n",
      "Try using .loc[row_indexer,col_indexer] = value instead\n",
      "\n",
      "See the caveats in the documentation: https://pandas.pydata.org/pandas-docs/stable/user_guide/indexing.html#returning-a-view-versus-a-copy\n",
      "  \n"
     ]
    },
    {
     "data": {
      "text/html": [
       "<div>\n",
       "<style scoped>\n",
       "    .dataframe tbody tr th:only-of-type {\n",
       "        vertical-align: middle;\n",
       "    }\n",
       "\n",
       "    .dataframe tbody tr th {\n",
       "        vertical-align: top;\n",
       "    }\n",
       "\n",
       "    .dataframe thead th {\n",
       "        text-align: right;\n",
       "    }\n",
       "</style>\n",
       "<table border=\"1\" class=\"dataframe\">\n",
       "  <thead>\n",
       "    <tr style=\"text-align: right;\">\n",
       "      <th></th>\n",
       "      <th>Close</th>\n",
       "      <th>Lower_BB</th>\n",
       "      <th>Upper_BB</th>\n",
       "    </tr>\n",
       "    <tr>\n",
       "      <th>Date</th>\n",
       "      <th></th>\n",
       "      <th></th>\n",
       "      <th></th>\n",
       "    </tr>\n",
       "  </thead>\n",
       "  <tbody>\n",
       "    <tr>\n",
       "      <th>2023-03-17</th>\n",
       "      <td>155.000000</td>\n",
       "      <td>144.533552</td>\n",
       "      <td>157.459307</td>\n",
       "    </tr>\n",
       "    <tr>\n",
       "      <th>2023-03-20</th>\n",
       "      <td>157.399994</td>\n",
       "      <td>144.764871</td>\n",
       "      <td>158.655130</td>\n",
       "    </tr>\n",
       "    <tr>\n",
       "      <th>2023-03-21</th>\n",
       "      <td>159.279999</td>\n",
       "      <td>145.709661</td>\n",
       "      <td>159.706054</td>\n",
       "    </tr>\n",
       "    <tr>\n",
       "      <th>2023-03-22</th>\n",
       "      <td>157.830002</td>\n",
       "      <td>147.258017</td>\n",
       "      <td>159.860555</td>\n",
       "    </tr>\n",
       "    <tr>\n",
       "      <th>2023-03-23</th>\n",
       "      <td>158.929993</td>\n",
       "      <td>147.397415</td>\n",
       "      <td>160.849727</td>\n",
       "    </tr>\n",
       "  </tbody>\n",
       "</table>\n",
       "</div>"
      ],
      "text/plain": [
       "                 Close    Lower_BB    Upper_BB\n",
       "Date                                          \n",
       "2023-03-17  155.000000  144.533552  157.459307\n",
       "2023-03-20  157.399994  144.764871  158.655130\n",
       "2023-03-21  159.279999  145.709661  159.706054\n",
       "2023-03-22  157.830002  147.258017  159.860555\n",
       "2023-03-23  158.929993  147.397415  160.849727"
      ]
     },
     "execution_count": 22,
     "metadata": {},
     "output_type": "execute_result"
    }
   ],
   "source": [
    "## Bollinger Bands\n",
    "\n",
    "def bollinger_Bands(data, n):\n",
    "    MA = data['Close'].rolling(window=n).mean()\n",
    "    SD = data['Close'].rolling(window=n).std()\n",
    "    \n",
    "    data['Lower_BB'] = MA - (2 * SD)\n",
    "    data['Upper_BB'] = MA + (2 * SD)\n",
    "    \n",
    "    return data\n",
    "\n",
    "n = 14\n",
    "\n",
    "appl_bb = bollinger_Bands(appl, n)\n",
    "\n",
    "appl_bb.tail()"
   ]
  },
  {
   "cell_type": "code",
   "execution_count": null,
   "id": "1e9c8a93-50fd-4380-a5bb-e2cb11b8ac38",
   "metadata": {},
   "outputs": [],
   "source": []
  },
  {
   "cell_type": "code",
   "execution_count": 25,
   "id": "a3352265-3c90-4a6e-8c3a-5049833938cc",
   "metadata": {},
   "outputs": [
    {
     "data": {
      "image/png": "[encoded data removed]",
      "text/plain": [
       "<Figure size 1400x500 with 1 Axes>"
      ]
     },
     "metadata": {},
     "output_type": "display_data"
    }
   ],
   "source": [
    "\n",
    "import matplotlib.pyplot as plt\n",
    "%matplotlib inline\n",
    "\n",
    "plt.figure(figsize=(14, 5)) # Customize plot size\n",
    "\n",
    "plt.plot(appl, 'b') # blue line color\n",
    "plt.plot(appl, 'ro') # red dots\n",
    "plt.grid(True) # grid layout to plot\n",
    "plt.title('Apple Close Price Graph') # title to plot\n",
    "plt.xlabel('Trading Day') # x-axis label\n",
    "plt.ylabel('Apple Closing Price') # y-axis label\n",
    "plt.show() # show visual of plot\n",
    "\n",
    "\n"
   ]
  },
  {
   "cell_type": "code",
   "execution_count": 23,
   "id": "56a04767-264e-405e-9e7a-353f7b5ef4ec",
   "metadata": {},
   "outputs": [
    {
     "data": {
      "image/png": "[encoded data removed]",
      "text/plain": [
       "<Figure size 1000x500 with 1 Axes>"
      ]
     },
     "metadata": {},
     "output_type": "display_data"
    }
   ],
   "source": [
    "\n",
    "import matplotlib.pyplot as plt\n",
    "%matplotlib inline\n",
    "\n",
    "plt.figure(figsize=(10, 5)) # Customize plot size\n",
    "\n",
    "plt.plot(appl_bb.Close)\n",
    "plt.plot(appl_bb.Lower_BB)\n",
    "plt.plot(appl_bb.Upper_BB)\n",
    "\n",
    "plt.grid(True) # grid layout to plot\n",
    "plt.title('Apple Close Price Graph') # title to plot\n",
    "plt.xlabel('Trading Day') # x-axis label\n",
    "plt.ylabel('Apple Closing Price') # y-axis label\n",
    "plt.show() # show visual of plot\n",
    "\n",
    "\n"
   ]
  },
  {
   "cell_type": "markdown",
   "id": "997bd215-2578-4c96-bc8e-86b9ba95d7c8",
   "metadata": {},
   "source": [
    "## Lambda"
   ]
  },
  {
   "cell_type": "code",
   "execution_count": 24,
   "id": "46fd542f-7feb-403c-bd8a-f976e60b0c08",
   "metadata": {},
   "outputs": [
    {
     "data": {
      "text/plain": [
       "5"
      ]
     },
     "execution_count": 24,
     "metadata": {},
     "output_type": "execute_result"
    }
   ],
   "source": [
    "sum = lambda x, y : x + y\n",
    "\n",
    "sum(2,3)"
   ]
  },
  {
   "cell_type": "code",
   "execution_count": 25,
   "id": "8a9ba729-bebf-46b2-8527-1ba325f78174",
   "metadata": {},
   "outputs": [
    {
     "data": {
      "text/plain": [
       "6"
      ]
     },
     "execution_count": 25,
     "metadata": {},
     "output_type": "execute_result"
    }
   ],
   "source": [
    "product = lambda x, y : x * y\n",
    "\n",
    "product(2,3)"
   ]
  },
  {
   "cell_type": "code",
   "execution_count": 26,
   "id": "0c80186a-bfde-4772-ba05-56129dc7b648",
   "metadata": {},
   "outputs": [
    {
     "data": {
      "text/plain": [
       "0"
      ]
     },
     "execution_count": 26,
     "metadata": {},
     "output_type": "execute_result"
    }
   ],
   "source": [
    "my_operation = lambda x, y, z : x + y - z\n",
    "\n",
    "my_operation(10, 20, 30)"
   ]
  },
  {
   "cell_type": "code",
   "execution_count": 28,
   "id": "efac96f6-9fbd-4633-8672-19a10440a377",
   "metadata": {},
   "outputs": [
    {
     "data": {
      "text/plain": [
       "[11, 22, 33, 44]"
      ]
     },
     "execution_count": 28,
     "metadata": {},
     "output_type": "execute_result"
    }
   ],
   "source": [
    "list_1 = [1, 2, 3, 4]\n",
    "list_2 = [10, 20, 30, 40]\n",
    "list_3 = [100, 200, 300, 400]\n",
    "\n",
    "list(map(lambda x, y: x + y, list_1, list_2))\n",
    "#list(map(lambda x, y, z: x + y + z, list_1, list_2, list_3))\n",
    "#list(map(lambda y, z: y + z, list_2, list_3))\n"
   ]
  },
  {
   "cell_type": "code",
   "execution_count": 29,
   "id": "5cb424a8-c1b5-4216-89f3-9a66e9faeb41",
   "metadata": {},
   "outputs": [
    {
     "data": {
      "text/plain": [
       "[111, 222, 333, 444]"
      ]
     },
     "execution_count": 29,
     "metadata": {},
     "output_type": "execute_result"
    }
   ],
   "source": [
    "list_1 = [1, 2, 3, 4]\n",
    "list_2 = [10, 20, 30, 40]\n",
    "list_3 = [100, 200, 300, 400]\n",
    "\n",
    "#list(map(lambda x, y: x + y, list_1, list_2))\n",
    "list(map(lambda x, y, z: x + y + z, list_1, list_2, list_3))\n",
    "#list(map(lambda y, z: y + z, list_2, list_3))\n"
   ]
  },
  {
   "cell_type": "code",
   "execution_count": 30,
   "id": "e8dbd3e4-226a-4fb9-a384-31b80ee2cc45",
   "metadata": {},
   "outputs": [
    {
     "data": {
      "text/plain": [
       "[110, 220, 330, 440]"
      ]
     },
     "execution_count": 30,
     "metadata": {},
     "output_type": "execute_result"
    }
   ],
   "source": [
    "list_1 = [1, 2, 3, 4]\n",
    "list_2 = [10, 20, 30, 40]\n",
    "list_3 = [100, 200, 300, 400]\n",
    "\n",
    "#list(map(lambda x, y: x + y, list_1, list_2))\n",
    "#list(map(lambda x, y, z: x + y + z, list_1, list_2, list_3))\n",
    "list(map(lambda y, z: y + z, list_2, list_3))\n"
   ]
  },
  {
   "cell_type": "code",
   "execution_count": 31,
   "id": "20a74c74-4d86-4db9-9063-cf31b50b4b44",
   "metadata": {},
   "outputs": [
    {
     "data": {
      "text/plain": [
       "[13, 21, 34, 55]"
      ]
     },
     "execution_count": 31,
     "metadata": {},
     "output_type": "execute_result"
    }
   ],
   "source": [
    "fib = [0,1,1,2,3,5,8,13,21,34,55]\n",
    "\n",
    "list(filter(lambda x: x > 8, fib))\n",
    "#list(filter(lambda x: x < 8, fib))\n"
   ]
  },
  {
   "cell_type": "code",
   "execution_count": 32,
   "id": "da585298-cf73-4469-947e-1062de51070c",
   "metadata": {},
   "outputs": [
    {
     "data": {
      "text/plain": [
       "[0, 1, 1, 2, 3, 5]"
      ]
     },
     "execution_count": 32,
     "metadata": {},
     "output_type": "execute_result"
    }
   ],
   "source": [
    "fib = [0,1,1,2,3,5,8,13,21,34,55]\n",
    "\n",
    "#list(filter(lambda x: x > 8, fib))\n",
    "list(filter(lambda x: x < 8, fib))\n"
   ]
  },
  {
   "cell_type": "code",
   "execution_count": null,
   "id": "e6f2cd0c-e5a6-484e-a3ce-39e1268253de",
   "metadata": {},
   "outputs": [],
   "source": []
  }
 ],
 "metadata": {
  "kernelspec": {
   "display_name": "Python 3 (ipykernel)",
   "language": "python",
   "name": "python3"
  },
  "language_info": {
   "codemirror_mode": {
    "name": "ipython",
    "version": 3
   },
   "file_extension": ".py",
   "mimetype": "text/x-python",
   "name": "python",
   "nbconvert_exporter": "python",
   "pygments_lexer": "ipython3",
   "version": "3.7.13"
  }
 },
 "nbformat": 4,
 "nbformat_minor": 5
}
